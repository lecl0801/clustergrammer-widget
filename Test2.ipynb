{
 "cells": [
  {
   "cell_type": "code",
   "execution_count": 1,
   "metadata": {},
   "outputs": [
    {
     "ename": "AttributeError",
     "evalue": "'str' object has no attribute 'class_traits'",
     "output_type": "error",
     "traceback": [
      "\u001b[0;31m---------------------------------------------------------------------------\u001b[0m",
      "\u001b[0;31mAttributeError\u001b[0m                            Traceback (most recent call last)",
      "\u001b[1;32m/Users/laraluz/Documents/GitHub/clustergrammer-widget/Test2.ipynb Cell 1\u001b[0m in \u001b[0;36m<cell line: 2>\u001b[0;34m()\u001b[0m\n\u001b[1;32m      <a href='vscode-notebook-cell:/Users/laraluz/Documents/GitHub/clustergrammer-widget/Test2.ipynb#W0sZmlsZQ%3D%3D?line=0'>1</a>\u001b[0m \u001b[39mimport\u001b[39;00m \u001b[39mpandas\u001b[39;00m \u001b[39mas\u001b[39;00m \u001b[39mpd\u001b[39;00m\n\u001b[0;32m----> <a href='vscode-notebook-cell:/Users/laraluz/Documents/GitHub/clustergrammer-widget/Test2.ipynb#W0sZmlsZQ%3D%3D?line=1'>2</a>\u001b[0m \u001b[39mfrom\u001b[39;00m \u001b[39mclustergrammer_widget\u001b[39;00m \u001b[39mimport\u001b[39;00m \u001b[39m*\u001b[39m\n\u001b[1;32m      <a href='vscode-notebook-cell:/Users/laraluz/Documents/GitHub/clustergrammer-widget/Test2.ipynb#W0sZmlsZQ%3D%3D?line=2'>3</a>\u001b[0m net \u001b[39m=\u001b[39m Network(clustergrammer_widget)\n",
      "File \u001b[0;32m~/Documents/GitHub/clustergrammer-widget/clustergrammer_widget/__init__.py:3\u001b[0m, in \u001b[0;36m<module>\u001b[0;34m\u001b[0m\n\u001b[1;32m      1\u001b[0m \u001b[39mfrom\u001b[39;00m \u001b[39m.\u001b[39;00m\u001b[39m_version\u001b[39;00m \u001b[39mimport\u001b[39;00m version_info, __version__\n\u001b[0;32m----> 3\u001b[0m \u001b[39mfrom\u001b[39;00m \u001b[39m.\u001b[39;00m\u001b[39mexample\u001b[39;00m \u001b[39mimport\u001b[39;00m \u001b[39m*\u001b[39m\n\u001b[1;32m      5\u001b[0m \u001b[39mdef\u001b[39;00m \u001b[39m_jupyter_nbextension_paths\u001b[39m():\n\u001b[1;32m      6\u001b[0m     \u001b[39mreturn\u001b[39;00m [{\n\u001b[1;32m      7\u001b[0m         \u001b[39m'\u001b[39m\u001b[39msection\u001b[39m\u001b[39m'\u001b[39m: \u001b[39m'\u001b[39m\u001b[39mnotebook\u001b[39m\u001b[39m'\u001b[39m,\n\u001b[1;32m      8\u001b[0m         \u001b[39m'\u001b[39m\u001b[39msrc\u001b[39m\u001b[39m'\u001b[39m: \u001b[39m'\u001b[39m\u001b[39mstatic\u001b[39m\u001b[39m'\u001b[39m,\n\u001b[1;32m      9\u001b[0m         \u001b[39m'\u001b[39m\u001b[39mdest\u001b[39m\u001b[39m'\u001b[39m: \u001b[39m'\u001b[39m\u001b[39mclustergrammer_widget\u001b[39m\u001b[39m'\u001b[39m,\n\u001b[1;32m     10\u001b[0m         \u001b[39m'\u001b[39m\u001b[39mrequire\u001b[39m\u001b[39m'\u001b[39m: \u001b[39m'\u001b[39m\u001b[39mclustergrammer_widget/extension\u001b[39m\u001b[39m'\u001b[39m\n\u001b[1;32m     11\u001b[0m     }]\n",
      "File \u001b[0;32m~/Documents/GitHub/clustergrammer-widget/clustergrammer_widget/example.py:10\u001b[0m, in \u001b[0;36m<module>\u001b[0;34m\u001b[0m\n\u001b[1;32m      6\u001b[0m Network \u001b[39m=\u001b[39m clustergrammer\u001b[39m.\u001b[39mNetwork\n\u001b[1;32m      8\u001b[0m \u001b[39m# version 1.13.3\u001b[39;00m\n\u001b[0;32m---> 10\u001b[0m \u001b[39m@widgets\u001b[39m\u001b[39m.\u001b[39;49mregister(\u001b[39m'\u001b[39;49m\u001b[39mhello.Hello\u001b[39;49m\u001b[39m'\u001b[39;49m)\n\u001b[1;32m     11\u001b[0m \u001b[39mclass\u001b[39;00m \u001b[39mclustergrammer_widget\u001b[39;00m(widgets\u001b[39m.\u001b[39mDOMWidget):\n\u001b[1;32m     12\u001b[0m     \u001b[39m\"\"\"\u001b[39;00m\n\u001b[1;32m     13\u001b[0m \u001b[39m    Clustergrammer-Widget generates an interactive heatmap in the Jupyter\u001b[39;00m\n\u001b[1;32m     14\u001b[0m \u001b[39m    notebook. Clustergrammer-Widget inherits from Clustergrammer.py which can\u001b[39;00m\n\u001b[1;32m     15\u001b[0m \u001b[39m    be used to load data, filter, normalize, and cluster.\u001b[39;00m\n\u001b[1;32m     16\u001b[0m \u001b[39m    \"\"\"\u001b[39;00m\n\u001b[1;32m     17\u001b[0m     _view_name \u001b[39m=\u001b[39m Unicode(\u001b[39m'\u001b[39m\u001b[39mhello_view\u001b[39m\u001b[39m'\u001b[39m)\u001b[39m.\u001b[39mtag(sync\u001b[39m=\u001b[39m\u001b[39mTrue\u001b[39;00m)\n",
      "File \u001b[0;32m/Library/Frameworks/Python.framework/Versions/3.10/lib/python3.10/site-packages/ipywidgets/widgets/widget.py:264\u001b[0m, in \u001b[0;36mregister\u001b[0;34m(widget)\u001b[0m\n\u001b[1;32m    262\u001b[0m \u001b[39mdef\u001b[39;00m \u001b[39mregister\u001b[39m(widget):\n\u001b[1;32m    263\u001b[0m     \u001b[39m\"\"\"A decorator registering a widget class in the widget registry.\"\"\"\u001b[39;00m\n\u001b[0;32m--> 264\u001b[0m     w \u001b[39m=\u001b[39m widget\u001b[39m.\u001b[39;49mclass_traits()\n\u001b[1;32m    265\u001b[0m     Widget\u001b[39m.\u001b[39m_widget_types\u001b[39m.\u001b[39mregister(w[\u001b[39m'\u001b[39m\u001b[39m_model_module\u001b[39m\u001b[39m'\u001b[39m]\u001b[39m.\u001b[39mdefault_value,\n\u001b[1;32m    266\u001b[0m                                  w[\u001b[39m'\u001b[39m\u001b[39m_model_module_version\u001b[39m\u001b[39m'\u001b[39m]\u001b[39m.\u001b[39mdefault_value,\n\u001b[1;32m    267\u001b[0m                                  w[\u001b[39m'\u001b[39m\u001b[39m_model_name\u001b[39m\u001b[39m'\u001b[39m]\u001b[39m.\u001b[39mdefault_value,\n\u001b[0;32m   (...)\u001b[0m\n\u001b[1;32m    270\u001b[0m                                  w[\u001b[39m'\u001b[39m\u001b[39m_view_name\u001b[39m\u001b[39m'\u001b[39m]\u001b[39m.\u001b[39mdefault_value,\n\u001b[1;32m    271\u001b[0m                                  widget)\n\u001b[1;32m    272\u001b[0m     \u001b[39mreturn\u001b[39;00m widget\n",
      "\u001b[0;31mAttributeError\u001b[0m: 'str' object has no attribute 'class_traits'"
     ]
    }
   ],
   "source": [
    "import pandas as pd\n",
    "from clustergrammer_widget import *\n",
    "net = Network(clustergrammer_widget)"
   ]
  },
  {
   "cell_type": "code",
   "execution_count": null,
   "metadata": {},
   "outputs": [],
   "source": [
    "# load matrix file\n",
    "net.load_file('Genes_clustergrammer.txt')\n",
    "\n",
    "# cluster using default parameters\n",
    "net.cluster(enrichrgram=True)\n",
    "\n",
    "# make interactive widget\n",
    "net.widget()"
   ]
  }
 ],
 "metadata": {
  "kernelspec": {
   "display_name": "Python 3.10.5 64-bit",
   "language": "python",
   "name": "python3"
  },
  "language_info": {
   "codemirror_mode": {
    "name": "ipython",
    "version": 3
   },
   "file_extension": ".py",
   "mimetype": "text/x-python",
   "name": "python",
   "nbconvert_exporter": "python",
   "pygments_lexer": "ipython3",
   "version": "3.10.5"
  },
  "orig_nbformat": 4,
  "vscode": {
   "interpreter": {
    "hash": "aee8b7b246df8f9039afb4144a1f6fd8d2ca17a180786b69acc140d282b71a49"
   }
  }
 },
 "nbformat": 4,
 "nbformat_minor": 2
}
